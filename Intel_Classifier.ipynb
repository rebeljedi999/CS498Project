{
 "cells": [
  {
   "cell_type": "code",
   "execution_count": 17,
   "id": "listed-blues",
   "metadata": {},
   "outputs": [
    {
     "name": "stdout",
     "output_type": "stream",
     "text": [
      "The tensorboard extension is already loaded. To reload it, use:\n",
      "  %reload_ext tensorboard\n",
      "[PhysicalDevice(name='/physical_device:CPU:0', device_type='CPU'), PhysicalDevice(name='/physical_device:XLA_CPU:0', device_type='XLA_CPU'), PhysicalDevice(name='/physical_device:GPU:0', device_type='GPU'), PhysicalDevice(name='/physical_device:XLA_GPU:0', device_type='XLA_GPU')]\n"
     ]
    }
   ],
   "source": [
    "import pandas as pd\n",
    "import numpy as np\n",
    "import os, shutil\n",
    "import matplotlib.pyplot as plt\n",
    "from matplotlib.pyplot import imshow\n",
    "from PIL import Image\n",
    "from tensorflow.keras.preprocessing.image import ImageDataGenerator\n",
    "from collections import Counter\n",
    "from tensorflow.keras.regularizers import l2\n",
    "from sklearn import metrics\n",
    "\n",
    "import tensorflow as tf\n",
    "import tensorflow.keras as keras\n",
    "from tensorboard.plugins.hparams import api as hp\n",
    "\n",
    "physical_devices = tf.config.list_physical_devices()\n",
    "%load_ext tensorboard\n",
    "print(physical_devices)"
   ]
  },
  {
   "cell_type": "code",
   "execution_count": 5,
   "id": "caring-nowhere",
   "metadata": {},
   "outputs": [
    {
     "name": "stdout",
     "output_type": "stream",
     "text": [
      "Total training images for buildings : 2191\n",
      "Total training images for forest : 2271\n",
      "Total training images for glacier : 2404\n",
      "Total training images for mountain : 2512\n",
      "Total training images for sea : 2274\n",
      "Total training images for street : 2382\n",
      "\n",
      "Total testing images for buildings : 437\n",
      "Total testing images for forest : 474\n",
      "Total testing images for glacier : 553\n",
      "Total testing images for mountain : 525\n",
      "Total testing images for sea : 510\n",
      "Total testing images for street : 501\n",
      "\n",
      "Percentage training for buildings : 0.8337138508371386\n",
      "Total images for buildings : 2628\n",
      "\n",
      "Percentage training for forest : 0.8273224043715847\n",
      "Total images for forest : 2745\n",
      "\n",
      "Percentage training for glacier : 0.8129861345958742\n",
      "Total images for glacier : 2957\n",
      "\n",
      "Percentage training for mountain : 0.8271320381955878\n",
      "Total images for mountain : 3037\n",
      "\n",
      "Percentage training for sea : 0.8168103448275862\n",
      "Total images for sea : 2784\n",
      "\n",
      "Percentage training for street : 0.826222684703434\n",
      "Total images for street : 2883\n",
      "\n",
      "Total training images: 14034\n",
      "Total testing images: 3000\n"
     ]
    }
   ],
   "source": [
    "class_names = ['buildings', 'forest', 'glacier', 'mountain',\n",
    "               'sea', 'street']\n",
    "train_dir = \"seg_train/seg_train\"\n",
    "test_dir = \"seg_test/seg_test\"\n",
    "\n",
    "train_count = []\n",
    "for c in class_names:\n",
    "    print(\"Total training images for\", c, \":\", len(os.listdir(train_dir + \"/\" + c)))\n",
    "    train_count.append(len(os.listdir(train_dir + \"/\" + c)))\n",
    "\n",
    "print(\"\")\n",
    "test_count = []\n",
    "for c in class_names:\n",
    "    print(\"Total testing images for\", c, \":\", len(os.listdir(test_dir + \"/\" + c)))\n",
    "    test_count.append(len(os.listdir(test_dir + \"/\" + c)))\n",
    "print('')\n",
    "for i in range(len(train_count)):\n",
    "    tot = train_count[i] + test_count[i]\n",
    "    print(\"Percentage training for\", class_names[i], \":\", train_count[i]/tot)\n",
    "    print('Total images for', class_names[i], ':', train_count[i] + test_count[i])\n",
    "    print('')\n",
    "    \n",
    "print('Total training images:', sum(train_count))\n",
    "print('Total testing images:', sum(test_count))"
   ]
  },
  {
   "cell_type": "code",
   "execution_count": 6,
   "id": "alpine-kitchen",
   "metadata": {},
   "outputs": [
    {
     "data": {
      "image/png": "[encoded data removed]",
      "text/plain": [
       "<Figure size 432x288 with 1 Axes>"
      ]
     },
     "metadata": {
      "needs_background": "light"
     },
     "output_type": "display_data"
    }
   ],
   "source": [
    "train_perc = [x / sum(train_count)for x in train_count]\n",
    "y_pos = np.arange(len(class_names))\n",
    "\n",
    "plt.bar(y_pos, train_perc, align='center', alpha=0.5)\n",
    "plt.xticks(y_pos, class_names)\n",
    "plt.ylabel('Class Percentage')\n",
    "plt.title('Percentage of Images in Training Set by Class')\n",
    "\n",
    "plt.show()"
   ]
  },
  {
   "cell_type": "code",
   "execution_count": 7,
   "id": "german-module",
   "metadata": {},
   "outputs": [
    {
     "data": {
      "image/png": "[encoded data removed]",
      "text/plain": [
       "<Figure size 432x288 with 1 Axes>"
      ]
     },
     "metadata": {
      "needs_background": "light"
     },
     "output_type": "display_data"
    }
   ],
   "source": [
    "test_perc = [x / sum(test_count)for x in test_count]\n",
    "y_pos = np.arange(len(class_names))\n",
    "\n",
    "plt.bar(y_pos, test_perc, align='center', alpha=0.5)\n",
    "plt.xticks(y_pos, class_names)\n",
    "plt.ylabel('Class Percentage')\n",
    "plt.title('Percentage of Images in Testing Set by Class')\n",
    "\n",
    "plt.show()"
   ]
  },
  {
   "cell_type": "code",
   "execution_count": 8,
   "id": "introductory-medicaid",
   "metadata": {},
   "outputs": [
    {
     "data": {
      "text/plain": [
       "31"
      ]
     },
     "execution_count": 8,
     "metadata": {},
     "output_type": "execute_result"
    }
   ],
   "source": [
    "# get training data\n",
    "image_sizes = {}\n",
    "image_types = {}\n",
    "for index, c in enumerate(class_names):\n",
    "    for dr in os.listdir(train_dir + \"/\" + c):\n",
    "        im = Image.open(train_dir + \"/\" + c + \"/\" + dr)\n",
    "        if str(im.size) in image_sizes.keys():\n",
    "            image_sizes[str(im.size)] = image_sizes[str(im.size)] + 1\n",
    "        else:\n",
    "            image_sizes[str(im.size)] = 1\n",
    "        if str(im.mode) in image_types.keys():\n",
    "            image_types[str(im.mode)] = image_types[str(im.mode)] + 1\n",
    "        else:\n",
    "            image_types[str(im.mode)] = 1\n",
    "len(image_sizes)"
   ]
  },
  {
   "cell_type": "code",
   "execution_count": 9,
   "id": "quality-scanning",
   "metadata": {},
   "outputs": [
    {
     "name": "stdout",
     "output_type": "stream",
     "text": [
      "{'(150, 150)': 13986, '(150, 124)': 1, '(150, 113)': 7, '(150, 108)': 2, '(150, 133)': 1, '(150, 115)': 1, '(150, 135)': 3, '(150, 136)': 2, '(150, 110)': 1, '(150, 105)': 1, '(150, 111)': 3, '(150, 120)': 1, '(150, 149)': 1, '(150, 143)': 2, '(150, 146)': 2, '(150, 134)': 2, '(150, 142)': 2, '(150, 123)': 2, '(150, 119)': 1, '(150, 102)': 1, '(150, 76)': 1, '(150, 97)': 1, '(150, 144)': 2, '(150, 103)': 1, '(150, 100)': 1, '(150, 141)': 1, '(150, 145)': 1, '(150, 81)': 1, '(150, 147)': 1, '(150, 131)': 1, '(150, 140)': 1}\n",
      "\n",
      "\n",
      "{'RGB': 14034}\n",
      "\n",
      "3 highest values in image sizes\n",
      "(150, 150)  : 13986  \n",
      "(150, 113)  : 7  \n",
      "(150, 135)  : 3  \n"
     ]
    }
   ],
   "source": [
    "print(image_sizes)\n",
    "print(\"\\n\")\n",
    "print(image_types)\n",
    "# looking at this, we can tell that almost all images are 150x150 so that shall be the size of the image\n",
    "IMAGE_HEIGHT = 227\n",
    "IMAGE_WIDTH = 227\n",
    "\n",
    "k = Counter(image_sizes)\n",
    "  \n",
    "# Finding 3 highest values\n",
    "high = k.most_common(3) \n",
    "\n",
    "print(\"\\n3 highest values in image sizes\")\n",
    "  \n",
    "for i in high:\n",
    "    print(i[0],\" :\",i[1],\" \")"
   ]
  },
  {
   "cell_type": "code",
   "execution_count": 10,
   "id": "partial-equity",
   "metadata": {},
   "outputs": [
    {
     "name": "stdout",
     "output_type": "stream",
     "text": [
      "Found 14034 images belonging to 6 classes.\n",
      "Found 3000 images belonging to 6 classes.\n"
     ]
    }
   ],
   "source": [
    "# create generators for getting data\n",
    "training_datagen = ImageDataGenerator(rescale=1./255)\n",
    "testing_datagen = ImageDataGenerator(rescale=1./255)\n",
    "training_generator = training_datagen.flow_from_directory(train_dir,\n",
    "                            target_size=(IMAGE_HEIGHT, IMAGE_WIDTH), batch_size=20, class_mode=\"categorical\")\n",
    "testing_generator = testing_datagen.flow_from_directory(test_dir, target_size=(IMAGE_HEIGHT, IMAGE_WIDTH),\n",
    "                            batch_size=20, class_mode=\"categorical\")"
   ]
  },
  {
   "cell_type": "code",
   "execution_count": 12,
   "id": "06d2671e",
   "metadata": {},
   "outputs": [],
   "source": [
    "def buildNet(net, drop_rate):\n",
    "    regularizer = l2(0.001)\n",
    "    \n",
    "    net.add(keras.layers.Conv2D(filters=96, kernel_size=11, strides=4,\n",
    "                                activation='relu', input_shape=(IMAGE_HEIGHT, IMAGE_WIDTH, 3)))\n",
    "    net.add(keras.layers.BatchNormalization())\n",
    "    net.add(keras.layers.AveragePooling2D(pool_size=(3, 3), strides=(2, 2)))\n",
    "    net.add(keras.layers.Conv2D(filters=256, kernel_size=(5, 5), strides=(1, 1),\n",
    "                                activation='relu', padding=\"same\"))\n",
    "    net.add(keras.layers.BatchNormalization())\n",
    "    net.add(keras.layers.AveragePooling2D(pool_size=(3, 3), strides=(2, 2)))\n",
    "    net.add(keras.layers.Conv2D(filters=384, kernel_size=(3, 3), strides=(1, 1),\n",
    "                                activation='relu', padding=\"same\"))\n",
    "    net.add(keras.layers.BatchNormalization())\n",
    "    net.add(keras.layers.AveragePooling2D(pool_size=(3, 3), strides=(2, 2)))\n",
    "    net.add(keras.layers.Conv2D(filters=384, kernel_size=(3, 3), strides=(1, 1),\n",
    "                                activation='relu', padding=\"same\"))\n",
    "    net.add(keras.layers.BatchNormalization())\n",
    "    net.add(keras.layers.AveragePooling2D(pool_size=(3, 3), strides=(2, 2)))\n",
    "    net.add(keras.layers.Conv2D(filters=256, kernel_size=(3, 3), strides=(1, 1),\n",
    "                                activation='relu', padding=\"same\", ))\n",
    "    net.add(keras.layers.BatchNormalization())\n",
    "    net.add(keras.layers.AveragePooling2D(pool_size=(3, 3), strides=(2, 2), padding='same'))\n",
    "    \n",
    "    net.add(keras.layers.Flatten())\n",
    "    net.add(keras.layers.Dense(4096, activation='relu'))\n",
    "    net.add(keras.layers.Dropout(drop_rate))\n",
    "    net.add(keras.layers.Dense(4096, activation='relu'))\n",
    "    net.add(keras.layers.Dropout(drop_rate))\n",
    "    net.add(keras.layers.Dense(6, activation='softmax'))\n",
    "    \n",
    "    return net\n",
    "\n",
    "def buildNetHyper(net, hparams):\n",
    "    net.add(keras.layers.Conv2D(filters=96, kernel_size=11, strides=4,\n",
    "                                activation='relu', input_shape=(IMAGE_HEIGHT, IMAGE_WIDTH, 3)))\n",
    "    net.add(keras.layers.BatchNormalization())\n",
    "    net.add(keras.layers.AveragePooling2D(pool_size=(3, 3), strides=(2, 2)))\n",
    "    net.add(keras.layers.Conv2D(filters=256, kernel_size=(5, 5), strides=(1, 1),\n",
    "                                activation='relu', padding=\"same\"))\n",
    "    net.add(keras.layers.BatchNormalization())\n",
    "    net.add(keras.layers.AveragePooling2D(pool_size=(3, 3), strides=(2, 2)))\n",
    "    net.add(keras.layers.Conv2D(filters=384, kernel_size=(3, 3), strides=(1, 1),\n",
    "                                activation='relu', padding=\"same\"))\n",
    "    net.add(keras.layers.BatchNormalization())\n",
    "    net.add(keras.layers.AveragePooling2D(pool_size=(3, 3), strides=(2, 2)))\n",
    "    net.add(keras.layers.Conv2D(filters=384, kernel_size=(3, 3), strides=(1, 1),\n",
    "                                activation='relu', padding=\"same\"))\n",
    "    net.add(keras.layers.BatchNormalization())\n",
    "    net.add(keras.layers.AveragePooling2D(pool_size=(3, 3), strides=(2, 2)))\n",
    "    net.add(keras.layers.Conv2D(filters=256, kernel_size=(3, 3), strides=(1, 1),\n",
    "                                activation='relu', padding=\"same\"))\n",
    "    net.add(keras.layers.BatchNormalization())\n",
    "    net.add(keras.layers.AveragePooling2D(pool_size=(3, 3), strides=(2, 2), padding='same'))\n",
    "    \n",
    "    net.add(keras.layers.Flatten())\n",
    "    net.add(keras.layers.Dense(4096, activation='relu'))\n",
    "    net.add(keras.layers.Dropout(hparams[HP_DROPOUT]))\n",
    "    net.add(keras.layers.Dense(4096, activation='relu'))\n",
    "    net.add(keras.layers.Dropout(hparams[HP_DROPOUT]))\n",
    "    net.add(keras.layers.Dense(6, activation='softmax'))\n",
    "    \n",
    "    return net"
   ]
  },
  {
   "cell_type": "code",
   "execution_count": 21,
   "id": "assumed-playback",
   "metadata": {},
   "outputs": [
    {
     "name": "stdout",
     "output_type": "stream",
     "text": [
      "Model: \"sequential\"\n",
      "_________________________________________________________________\n",
      "Layer (type)                 Output Shape              Param #   \n",
      "=================================================================\n",
      "conv2d (Conv2D)              (None, 55, 55, 96)        34944     \n",
      "_________________________________________________________________\n",
      "batch_normalization (BatchNo (None, 55, 55, 96)        384       \n",
      "_________________________________________________________________\n",
      "average_pooling2d (AveragePo (None, 27, 27, 96)        0         \n",
      "_________________________________________________________________\n",
      "conv2d_1 (Conv2D)            (None, 27, 27, 256)       614656    \n",
      "_________________________________________________________________\n",
      "batch_normalization_1 (Batch (None, 27, 27, 256)       1024      \n",
      "_________________________________________________________________\n",
      "average_pooling2d_1 (Average (None, 13, 13, 256)       0         \n",
      "_________________________________________________________________\n",
      "conv2d_2 (Conv2D)            (None, 13, 13, 384)       885120    \n",
      "_________________________________________________________________\n",
      "batch_normalization_2 (Batch (None, 13, 13, 384)       1536      \n",
      "_________________________________________________________________\n",
      "average_pooling2d_2 (Average (None, 6, 6, 384)         0         \n",
      "_________________________________________________________________\n",
      "conv2d_3 (Conv2D)            (None, 6, 6, 384)         1327488   \n",
      "_________________________________________________________________\n",
      "batch_normalization_3 (Batch (None, 6, 6, 384)         1536      \n",
      "_________________________________________________________________\n",
      "average_pooling2d_3 (Average (None, 2, 2, 384)         0         \n",
      "_________________________________________________________________\n",
      "conv2d_4 (Conv2D)            (None, 2, 2, 256)         884992    \n",
      "_________________________________________________________________\n",
      "batch_normalization_4 (Batch (None, 2, 2, 256)         1024      \n",
      "_________________________________________________________________\n",
      "average_pooling2d_4 (Average (None, 1, 1, 256)         0         \n",
      "_________________________________________________________________\n",
      "flatten (Flatten)            (None, 256)               0         \n",
      "_________________________________________________________________\n",
      "dense (Dense)                (None, 4096)              1052672   \n",
      "_________________________________________________________________\n",
      "dropout (Dropout)            (None, 4096)              0         \n",
      "_________________________________________________________________\n",
      "dense_1 (Dense)              (None, 4096)              16781312  \n",
      "_________________________________________________________________\n",
      "dropout_1 (Dropout)          (None, 4096)              0         \n",
      "_________________________________________________________________\n",
      "dense_2 (Dense)              (None, 6)                 24582     \n",
      "=================================================================\n",
      "Total params: 21,611,270\n",
      "Trainable params: 21,608,518\n",
      "Non-trainable params: 2,752\n",
      "_________________________________________________________________\n"
     ]
    }
   ],
   "source": [
    "drop_rate = 0.4\n",
    "keras.backend.clear_session()\n",
    "model = tf.keras.Sequential()\n",
    "\n",
    "model = buildNet(model, drop_rate)\n",
    "\n",
    "model.compile(optimizer=keras.optimizers.Adam(learning_rate=0.001), loss='categorical_crossentropy', \n",
    "              metrics=['acc', keras.metrics.Precision(), keras.metrics.Recall()])\n",
    "model.summary()"
   ]
  },
  {
   "cell_type": "code",
   "execution_count": 22,
   "id": "thirty-membership",
   "metadata": {},
   "outputs": [
    {
     "name": "stdout",
     "output_type": "stream",
     "text": [
      "Epoch 1/15\n",
      "702/702 [==============================] - 32s 46ms/step - loss: 1.0125 - acc: 0.6103 - precision: 0.7039 - recall: 0.4952 - val_loss: 0.9854 - val_acc: 0.6337 - val_precision: 0.7468 - val_recall: 0.4720\n",
      "Epoch 2/15\n",
      "702/702 [==============================] - 32s 46ms/step - loss: 0.8117 - acc: 0.6994 - precision: 0.7606 - recall: 0.6198 - val_loss: 0.9325 - val_acc: 0.6603 - val_precision: 0.7637 - val_recall: 0.5323\n",
      "Epoch 3/15\n",
      "702/702 [==============================] - 33s 48ms/step - loss: 0.7228 - acc: 0.7374 - precision: 0.7865 - recall: 0.6728 - val_loss: 1.1578 - val_acc: 0.5837 - val_precision: 0.6562 - val_recall: 0.5237\n",
      "Epoch 4/15\n",
      "702/702 [==============================] - 33s 47ms/step - loss: 0.6473 - acc: 0.7619 - precision: 0.8082 - recall: 0.7137 - val_loss: 1.0135 - val_acc: 0.6310 - val_precision: 0.7417 - val_recall: 0.5340\n",
      "Epoch 5/15\n",
      "702/702 [==============================] - 37s 52ms/step - loss: 0.5902 - acc: 0.7855 - precision: 0.8221 - recall: 0.7438 - val_loss: 1.3768 - val_acc: 0.5697 - val_precision: 0.6166 - val_recall: 0.5313\n",
      "Epoch 6/15\n",
      "702/702 [==============================] - 34s 49ms/step - loss: 0.5519 - acc: 0.8002 - precision: 0.8359 - recall: 0.7661 - val_loss: 1.1197 - val_acc: 0.6180 - val_precision: 0.6669 - val_recall: 0.5813\n",
      "Epoch 7/15\n",
      "702/702 [==============================] - 38s 55ms/step - loss: 0.5133 - acc: 0.8145 - precision: 0.8421 - recall: 0.7813 - val_loss: 1.0126 - val_acc: 0.6733 - val_precision: 0.7035 - val_recall: 0.6360\n",
      "Epoch 8/15\n",
      "702/702 [==============================] - 35s 50ms/step - loss: 0.4771 - acc: 0.8260 - precision: 0.8522 - recall: 0.7972 - val_loss: 0.6581 - val_acc: 0.7647 - val_precision: 0.7977 - val_recall: 0.7400\n",
      "Epoch 9/15\n",
      "702/702 [==============================] - 32s 46ms/step - loss: 0.4467 - acc: 0.8360 - precision: 0.8604 - recall: 0.8111 - val_loss: 0.5200 - val_acc: 0.8187 - val_precision: 0.8448 - val_recall: 0.7950\n",
      "Epoch 10/15\n",
      "702/702 [==============================] - 35s 50ms/step - loss: 0.4145 - acc: 0.8504 - precision: 0.8732 - recall: 0.8295 - val_loss: 0.7075 - val_acc: 0.7470 - val_precision: 0.7889 - val_recall: 0.7113\n",
      "Epoch 11/15\n",
      "702/702 [==============================] - 33s 47ms/step - loss: 0.3861 - acc: 0.8583 - precision: 0.8788 - recall: 0.8389 - val_loss: 1.7168 - val_acc: 0.5713 - val_precision: 0.5959 - val_recall: 0.5447\n",
      "Epoch 12/15\n",
      "702/702 [==============================] - 36s 51ms/step - loss: 0.3666 - acc: 0.8643 - precision: 0.8826 - recall: 0.8484 - val_loss: 0.8066 - val_acc: 0.7287 - val_precision: 0.7566 - val_recall: 0.7117\n",
      "Epoch 13/15\n",
      "702/702 [==============================] - 32s 46ms/step - loss: 0.3388 - acc: 0.8745 - precision: 0.8900 - recall: 0.8602 - val_loss: 0.5187 - val_acc: 0.8180 - val_precision: 0.8340 - val_recall: 0.7990\n",
      "Epoch 14/15\n",
      "702/702 [==============================] - 32s 45ms/step - loss: 0.3257 - acc: 0.8820 - precision: 0.8972 - recall: 0.8662 - val_loss: 0.5226 - val_acc: 0.8217 - val_precision: 0.8455 - val_recall: 0.7953\n",
      "Epoch 15/15\n",
      "702/702 [==============================] - 32s 46ms/step - loss: 0.2986 - acc: 0.8915 - precision: 0.9031 - recall: 0.8792 - val_loss: 0.6234 - val_acc: 0.7893 - val_precision: 0.8179 - val_recall: 0.7620\n"
     ]
    }
   ],
   "source": [
    "# train the model\n",
    "history = model.fit(training_generator,\n",
    "                    epochs=15,\n",
    "                   validation_data=testing_generator,\n",
    "                   shuffle=False)"
   ]
  },
  {
   "cell_type": "code",
   "execution_count": 23,
   "id": "urban-conditions",
   "metadata": {},
   "outputs": [
    {
     "data": {
      "image/png": "[encoded data removed]",
      "text/plain": [
       "<Figure size 432x288 with 1 Axes>"
      ]
     },
     "metadata": {
      "needs_background": "light"
     },
     "output_type": "display_data"
    },
    {
     "data": {
      "image/png": "[encoded data removed]",
      "text/plain": [
       "<Figure size 432x288 with 1 Axes>"
      ]
     },
     "metadata": {
      "needs_background": "light"
     },
     "output_type": "display_data"
    },
    {
     "data": {
      "image/png": "[encoded data removed]",
      "text/plain": [
       "<Figure size 432x288 with 1 Axes>"
      ]
     },
     "metadata": {
      "needs_background": "light"
     },
     "output_type": "display_data"
    },
    {
     "data": {
      "image/png": "[encoded data removed]",
      "text/plain": [
       "<Figure size 432x288 with 1 Axes>"
      ]
     },
     "metadata": {
      "needs_background": "light"
     },
     "output_type": "display_data"
    }
   ],
   "source": [
    "# graph post training data for validation and training against eachother\n",
    "import matplotlib.pyplot as plt\n",
    "acc = history.history['acc']\n",
    "val_acc = history.history['val_acc']\n",
    "loss = history.history['loss']\n",
    "val_loss = history.history['val_loss']\n",
    "prec = history.history['precision']\n",
    "val_prec = history.history['val_precision']\n",
    "recall = history.history['recall']\n",
    "val_recall = history.history['val_recall']\n",
    "epochs = range(1, len(acc) + 1)\n",
    "\n",
    "# accuracy graph\n",
    "plt.plot(epochs, acc, 'bo', label='Training acc')\n",
    "plt.plot(epochs, val_acc, 'b', label='Validation acc')\n",
    "plt.title('Training and validation accuracy')\n",
    "plt.legend()\n",
    "plt.figure()\n",
    "\n",
    "# loss graph\n",
    "plt.plot(epochs, loss, 'bo', label='Training loss')\n",
    "plt.plot(epochs, val_loss, 'b', label='Validation loss')\n",
    "plt.title('Training and validation loss')\n",
    "plt.legend()\n",
    "plt.show()\n",
    "\n",
    "# precision graph\n",
    "plt.plot(epochs, prec, 'bo', label='Training Precision')\n",
    "plt.plot(epochs, val_prec, 'b', label='Validation Precision')\n",
    "plt.title('Training and validation precision')\n",
    "plt.legend()\n",
    "plt.show()\n",
    "\n",
    "# recall graph\n",
    "plt.plot(epochs, recall, 'bo', label='Training Recall')\n",
    "plt.plot(epochs, val_recall, 'b', label='Validation Recall')\n",
    "plt.title('Training and validation recall')\n",
    "plt.legend()\n",
    "plt.show()"
   ]
  },
  {
   "cell_type": "code",
   "execution_count": 20,
   "id": "a8c688ec",
   "metadata": {},
   "outputs": [
    {
     "name": "stdout",
     "output_type": "stream",
     "text": [
      "              precision    recall  f1-score   support\n",
      "\n",
      "           0       0.17      0.25      0.20       437\n",
      "           1       0.17      0.16      0.16       474\n",
      "           2       0.18      0.13      0.15       553\n",
      "           3       0.18      0.12      0.15       525\n",
      "           4       0.17      0.24      0.20       510\n",
      "           5       0.13      0.12      0.12       501\n",
      "\n",
      "    accuracy                           0.17      3000\n",
      "   macro avg       0.17      0.17      0.16      3000\n",
      "weighted avg       0.17      0.17      0.16      3000\n",
      "\n"
     ]
    }
   ],
   "source": [
    "# review model with seperate validation function for categorical info\n",
    "predictions = model.predict(testing_generator)\n",
    "predicted_classes = np.argmax(predictions, axis=1)\n",
    "classes = testing_generator.classes\n",
    "report = metrics.classification_report(classes, predicted_classes, zero_division=False)\n",
    "print(report)"
   ]
  },
  {
   "cell_type": "code",
   "execution_count": null,
   "id": "6b74d92b",
   "metadata": {},
   "outputs": [],
   "source": [
    "HP_DROPOUT = hp.HParam('dropout', hp.Discrete([0.0, 0.2, 0.4]))\n",
    "HP_OPTIMIZER = hp.HParam('optimizer', hp.Discrete(['adam']))\n",
    "\n",
    "METRIC_ACCURACY = 'accuracy'\n",
    "\n",
    "with tf.summary.create_file_writer('logs/hparam_tuning').as_default():\n",
    "    hp.hparams_config(\n",
    "        hparams=[HP_DROPOUT, HP_OPTIMIZER],\n",
    "        metrics=[hp.Metric(METRIC_ACCURACY, display_name='Accuracy')],\n",
    "    )\n"
   ]
  },
  {
   "cell_type": "code",
   "execution_count": null,
   "id": "d4c1dcb6",
   "metadata": {},
   "outputs": [],
   "source": [
    "def train_test_model(hparams):\n",
    "    keras.backend.clear_session()\n",
    "    model = tf.keras.Sequential()\n",
    "\n",
    "    model = buildNetHyper(model, hparams)\n",
    "\n",
    "    model.compile(optimizer=hparams[HP_OPTIMIZER], loss='categorical_crossentropy', \n",
    "                  metrics=['accuracy'])\n",
    "\n",
    "    model.fit(training_generator, epochs=20)\n",
    "    _, accuracy = model.evaluate(testing_generator)\n",
    "    return accuracy"
   ]
  },
  {
   "cell_type": "code",
   "execution_count": null,
   "id": "01b41476",
   "metadata": {},
   "outputs": [],
   "source": [
    "def run(run_dir, hparams):\n",
    "    with tf.summary.create_file_writer(run_dir).as_default():\n",
    "        hp.hparams(hparams)  # record the values used in this trial\n",
    "        accuracy = train_test_model(hparams)\n",
    "        tf.summary.scalar(METRIC_ACCURACY, accuracy, step=1)\n"
   ]
  },
  {
   "cell_type": "code",
   "execution_count": null,
   "id": "bd619897",
   "metadata": {},
   "outputs": [],
   "source": [
    "session_num = 0\n",
    "\n",
    "for dropout_rate in HP_DROPOUT.domain.values:\n",
    "    for optimizer in HP_OPTIMIZER.domain.values:\n",
    "        hparams = {\n",
    "            HP_DROPOUT: dropout_rate,\n",
    "            HP_OPTIMIZER: optimizer,\n",
    "        }\n",
    "        run_name = \"run-%d\" % session_num\n",
    "        print('--- Starting trial: %s' % run_name)\n",
    "        print({h.name: hparams[h] for h in hparams})\n",
    "        run('logs/hparam_tuning/' + run_name, hparams)\n",
    "        session_num += 1\n"
   ]
  },
  {
   "cell_type": "code",
   "execution_count": null,
   "id": "3d367098",
   "metadata": {},
   "outputs": [],
   "source": [
    "%tensorboard --logdir logs/hparam_tuning"
   ]
  },
  {
   "cell_type": "code",
   "execution_count": 3,
   "id": "1305343e",
   "metadata": {},
   "outputs": [
    {
     "data": {
      "text/plain": [
       "array([[0.],\n",
       "       [1.]])"
      ]
     },
     "execution_count": 3,
     "metadata": {},
     "output_type": "execute_result"
    }
   ],
   "source": [
    "# optmial, drop=0.4 optimizer=adam\n",
    "np.around([[0.2], [0.6]])"
   ]
  },
  {
   "cell_type": "code",
   "execution_count": null,
   "id": "demographic-smart",
   "metadata": {},
   "outputs": [],
   "source": [
    "# save model for further training\n",
    "model.save(\"models/\")"
   ]
  }
 ],
 "metadata": {
  "kernelspec": {
   "display_name": "Python 3",
   "language": "python",
   "name": "python3"
  },
  "language_info": {
   "codemirror_mode": {
    "name": "ipython",
    "version": 3
   },
   "file_extension": ".py",
   "mimetype": "text/x-python",
   "name": "python",
   "nbconvert_exporter": "python",
   "pygments_lexer": "ipython3",
   "version": "3.8.8"
  }
 },
 "nbformat": 4,
 "nbformat_minor": 5
}
